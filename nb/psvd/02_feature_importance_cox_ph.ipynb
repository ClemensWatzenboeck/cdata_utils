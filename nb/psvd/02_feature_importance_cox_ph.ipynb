{
 "cells": [
  {
   "cell_type": "code",
   "execution_count": null,
   "metadata": {},
   "outputs": [],
   "source": [
    "import os\n",
    "import sys\n",
    "import pandas as pd\n",
    "pd.options.mode.copy_on_write = True \n",
    "\n",
    "from pathlib import Path\n",
    "import cdata_utils\n",
    "import numpy as np\n",
    "import matplotlib.pyplot as plt\n",
    "import cdata_utils.utils\n",
    "import datetime\n",
    "\n",
    "\n",
    "import json\n",
    "\n",
    "#import cdata_utils.preprocess.read_and_clean_tabular\n",
    "from cdata_utils.project_specific.psvd import (\n",
    "    read_and_clean_PSVD_data__BL_consensus,\n",
    "    read_and_clean_PSVD_data__BL_consensus_NEW,\n",
    "    categorize_PSVD_data,\n",
    "    exclude_patients,\n",
    "    reorder_some_categorical_values, \n",
    "    table1_psvd, \n",
    "    table1_psvd_spleen, \n",
    "    descriptive_df_from_masks, \n",
    "    masks_for_endpoint_1__decompensation, \n",
    "    masks_for_endpoint_2__death,\n",
    "    make_y_delta,\n",
    "    drop_non_numeric_columns,\n",
    "    table_of_valid_entries, \n",
    "    univariate_cox_ph_summary, \n",
    "    normalize_df, \n",
    "    load_EP1_EP2_data,\n",
    "    relevant_column_names,\n",
    "    relevant_column_names_clinical,\n",
    "    categorize_PSVD_clinical_data,\n",
    "    load_clinical_data,\n",
    ")\n",
    "\n",
    "\n",
    "\n",
    "\n",
    "import cdata_utils.preprocess\n",
    "import cdata_utils.project_specific\n",
    "import cdata_utils.project_specific.psvd\n",
    "\n",
    "\n",
    "import lifelines\n",
    "from lifelines import CoxPHFitter\n",
    "from lifelines.datasets import load_rossi\n",
    "\n",
    "from sklearn.preprocessing import StandardScaler\n",
    "\n",
    "# path info: \n",
    "if \"cwatzenboeck\" in os.getcwd(): # desktop \n",
    "    data_path = Path(\"/home/cwatzenboeck/Dropbox/work/data/livermodel/PSVD/\")\n",
    "    data_path_output=Path(\"/home/cwatzenboeck/data/psvd/output_coxph/\")\n",
    "else: # laptop \n",
    "    data_path = Path(\"/home/clemens/Dropbox/work/data/livermodel/PSVD/\")\n",
    "    # data_path = Path(\"/home/clemens/projects/project_liver_model/data/PSVD\")\n",
    "    \n",
    "\n"
   ]
  },
  {
   "cell_type": "code",
   "execution_count": null,
   "metadata": {},
   "outputs": [],
   "source": [
    "df1, df2 = load_EP1_EP2_data(data_path,  file_name = \"data_PSVD_unified_3.xlsx\")"
   ]
  },
  {
   "cell_type": "code",
   "execution_count": null,
   "metadata": {},
   "outputs": [],
   "source": [
    "# filter out categorical values (which might be encoded differently):\n",
    "    #    BL1_Ascites (0=none, 1=little, 2=moderate, 3=severe) \n",
    "    #    BL PV overall extent (no PVT=0, <50%=1, ≥50%=2)  \n",
    "    #    BL segment IV MW (-1 = atrophy, 0 = normal,  1 = hypertrophy)\n",
    "    #    BL segment 1 consensus (-1 = atrophy, 0 = normal,  1 = hypertrophy)\n",
    "\n",
    "\n",
    "cdata_utils.descriptive.basic_stats.describe(  \n",
    "df1.filter(regex=\"Ascites|PV overall extent|segment IV MW|segment 1 consensus\")\n",
    ").iloc[8:,:].transpose()\n"
   ]
  },
  {
   "cell_type": "code",
   "execution_count": null,
   "metadata": {},
   "outputs": [],
   "source": [
    "potentially_category_columns = list(df1.filter(regex=\"Ascites|PV overall extent|segment IV MW|segment 1 consensus\").columns)\n",
    "#potentially_category_columns = list(df1.filter(regex=\"PV overall extent\").columns)\n",
    "potentially_category_columns \n",
    "\n",
    "df1_ = df1[[\"BL Location consensus binary cat.\", \"BL Ascites mean\", \"status\", \"event\"]]\n",
    "\n",
    "# CoxPH for EP1:  \n",
    "univariate_cox_ph_summary(XY=df1_, duration_col=\"event\", event_col=\"status\")"
   ]
  },
  {
   "cell_type": "code",
   "execution_count": null,
   "metadata": {},
   "outputs": [],
   "source": [
    "# CoxPH for EP1:  \n",
    "df1_ph = univariate_cox_ph_summary(XY=df1, duration_col=\"event\", event_col=\"status\")\n",
    "\n"
   ]
  },
  {
   "cell_type": "code",
   "execution_count": null,
   "metadata": {},
   "outputs": [],
   "source": [
    "\n",
    "# make one hot encoding for atrophy, normal, hypertrophy\n",
    "df1_ = df1[potentially_category_columns + [\"status\", \"event\"]]\n",
    "df1_cat = cdata_utils.project_specific.psvd.categorize(df1_, category_columns=potentially_category_columns, drop_first=False)\n",
    "df1_ph_add = univariate_cox_ph_summary(XY=df1_cat, duration_col=\"event\", event_col=\"status\")\n",
    "# print(df1_ph_add.sort_values(\"p\", ascending=True))\n",
    "\n",
    "df1_ph.to_excel(data_path_output / \"EP1_outcome_univariate.xlsx\", index=False)\n",
    "df1_ph_add.to_excel(data_path_output / \"EP1_outcome_univariate_different_endcoding.xlsx\", index=False)\n",
    "df1_ph_all = pd.concat([df1_ph, df1_ph_add], axis=0)\n",
    "\n",
    "#df1_ph_all[df1_ph_all[\"p\"] <= 0.157][[\"covariate\", \"p\"]].sort_values(\"p\", ascending=True)"
   ]
  },
  {
   "cell_type": "code",
   "execution_count": null,
   "metadata": {},
   "outputs": [],
   "source": []
  },
  {
   "cell_type": "code",
   "execution_count": null,
   "metadata": {},
   "outputs": [],
   "source": [
    "df2_ph = univariate_cox_ph_summary(XY=df2, duration_col=\"event\", event_col=\"status\")\n",
    "df2_ph.to_excel(data_path_output  / \"EP2_outcome_univariate.xlsx\", index=False)\n",
    "# df2_ph.sort_values(\"p\", ascending=True)\n",
    "\n"
   ]
  },
  {
   "cell_type": "code",
   "execution_count": null,
   "metadata": {},
   "outputs": [],
   "source": [
    "df = df2\n",
    "events = df['status'].astype(bool)\n",
    "\n",
    "problematic_covariates = ['BL Atrophy/hypertrophy complex consensus', \n",
    "                          'BL intrahepatic shunts consensus', \n",
    "                          'BL Splanchnic thrombosis consensus binary cat. 2',  \n",
    "                          'BL Intrahepatic portal abnormalities consensus binary cat. 1', \n",
    "                          'BL Intrahepatic portal abnormalities consensus binary cat. 3']\n",
    "\n",
    "for c in problematic_covariates:\n",
    "\n",
    "\n",
    "    print(\"covariate = \", c)\n",
    "    print( sum(df.loc[events, c]), sum(df.loc[~events, c])  )\n",
    "    print(df.loc[events, c].var())\n",
    "    print(df.loc[~events, c].var())\n",
    "    print()\n"
   ]
  },
  {
   "cell_type": "code",
   "execution_count": null,
   "metadata": {},
   "outputs": [],
   "source": [
    "\n",
    "# make one hot encoding for atrophy, normal, hypertrophy\n",
    "\n",
    "df2_ = df2[potentially_category_columns + [\"status\", \"event\"]]\n",
    "df2_cat = cdata_utils.project_specific.psvd.categorize(df2_, category_columns=potentially_category_columns, drop_first=False)\n",
    "df2_ph_add = univariate_cox_ph_summary(XY=df2_cat, duration_col=\"event\", event_col=\"status\")\n",
    "\n",
    "df2_ph_add.to_excel(data_path_output  / \"EP2_outcome_univariate_different_endcoding.xlsx\", index=False)\n",
    "\n",
    "# df2_ph_all = pd.concat([df2_ph, df2_ph_add], axis=0)\n",
    "# df2_ph_all[df2_ph_all[\"p\"] <= 0.157][[\"covariate\", \"p\"]]\n"
   ]
  },
  {
   "cell_type": "code",
   "execution_count": null,
   "metadata": {},
   "outputs": [],
   "source": [
    "df = df2_cat\n",
    "events = df['status'].astype(bool)\n",
    "\n",
    "problematic_covariates = ['BL PV overall extent (no PVT=0, <50%=1, ≥50%=2)_1', 'BL segment 1 consensus_-1', 'BL segment IV MW_-1']\n",
    "\n",
    "for c in problematic_covariates:\n",
    "    print(\"covariate = \", c)\n",
    "    print( sum(df.loc[events, c]), sum(df.loc[~events, c])  )\n",
    "    print(df.loc[events, c].var())\n",
    "    print(df.loc[~events, c].var())\n",
    "    print()"
   ]
  },
  {
   "cell_type": "markdown",
   "metadata": {},
   "source": [
    "# Clinical parameters \n"
   ]
  },
  {
   "cell_type": "code",
   "execution_count": null,
   "metadata": {},
   "outputs": [],
   "source": [
    "\n",
    "\n",
    "drop_negative_times_to_event_cases=True\n",
    "\n",
    "df_c = load_clinical_data(data_path, file_name=\"data_PSVD_unified_3.xlsx\", drop_modfied_colums=True)\n",
    "df1c = df1.join(df_c.drop(columns=['Sex (1=male, 2=female)']))\n",
    "df2c = df2.join(df_c.drop(columns=['Sex (1=male, 2=female)']))\n",
    "\n",
    "# cols_clinical = relevant_column_names_clinical(dfo, chill=False)\n",
    "\n",
    "\n",
    "univariate_cox_ph_summary(XY=df1_, duration_col=\"event\", event_col=\"status\")\n",
    "\n",
    "# c1 = \"1. Decompensation date\"\n",
    "# c2 = \"Death\"\n",
    "# df1c = make_y_delta(df_c, c1)\n",
    "# df2c = make_y_delta(df_c, c2)\n",
    "\n",
    "\n",
    "\n",
    "# # drop negative event cases maybe: \n",
    "# m = df1c[\"event\"] <= 0\n",
    "# if drop_negative_times_to_event_cases and sum(m>0):\n",
    "#     df1c = df1c[~m]\n",
    "#     print(f\"Drop cases with negative time-to-event: \", list(df1c[m][\"ID\"]), \" for EP1\")\n",
    "# elif not drop_negative_times_to_event_cases and sum(m>0):\n",
    "#     print(f\"WARNING negative time-to-event: \", list(df1c[m][\"ID\"]), \" for EP1 were NOT dropped\")\n",
    "    \n",
    "\n",
    "# m = df2c[\"event\"] <= 0\n",
    "# if drop_negative_times_to_event_cases and sum(m>0):\n",
    "#     df2c = df2c[~m]\n",
    "#     print(f\"Drop cases with negative time-to-event: \", list(df2c[m][\"ID\"]), \" for EP2\")\n",
    "# elif not drop_negative_times_to_event_cases and sum(m>0):\n",
    "#     print(f\"WARNING negative time-to-event: \", list(df2c[m][\"ID\"]), \" for EP2 were NOT dropped\")"
   ]
  },
  {
   "cell_type": "code",
   "execution_count": null,
   "metadata": {},
   "outputs": [],
   "source": [
    "list(df1c.columns)"
   ]
  },
  {
   "cell_type": "code",
   "execution_count": null,
   "metadata": {},
   "outputs": [],
   "source": [
    "df1c\n",
    "\n",
    "\n",
    "\n",
    "regex_patterns_clinical = [\n",
    "    \"age|Age\", \n",
    "    \"sex|Sex\", \n",
    "    # \"BL decompensated\", # This makes no sense for EP1 \n",
    "    \"Child-Pugh-Score\", \n",
    "    \"MELD\", \"Crea\", \"BL_Na\", \"Plt|PLT\", \"Alb\", \"WBC\", \n",
    "    \"PSVD cause.*1\",\n",
    "    \"PSVD cause.*2\",\n",
    "    \"PSVD cause.*3\",\n",
    "    \"PSVD cause.*4\", \n",
    "    \"HVPG \\(mmHg\\)\", \"LSM \\(kPa\\)\"\n",
    "]\n",
    "    \n",
    "columns = relevant_column_names(df1c, regex_patterns=regex_patterns_clinical , chill=False)\n",
    "\n",
    "\n",
    "df1c_ph = univariate_cox_ph_summary(XY=df1c[columns + [\"status\", \"event\"]], duration_col=\"event\", event_col=\"status\")\n",
    "df1c_ph.to_excel(data_path_output  / \"EP1_clinical_parameters_outcome_univariate.xlsx\", index=False)\n",
    "# df2_ph.sort_values(\"p\", ascending=True)\n",
    "\n"
   ]
  },
  {
   "cell_type": "code",
   "execution_count": null,
   "metadata": {},
   "outputs": [],
   "source": [
    "df1c_ph.sort_values(\"p\")"
   ]
  },
  {
   "cell_type": "code",
   "execution_count": null,
   "metadata": {},
   "outputs": [],
   "source": []
  }
 ],
 "metadata": {
  "kernelspec": {
   "display_name": "pyt3-10",
   "language": "python",
   "name": "python3"
  },
  "language_info": {
   "codemirror_mode": {
    "name": "ipython",
    "version": 3
   },
   "file_extension": ".py",
   "mimetype": "text/x-python",
   "name": "python",
   "nbconvert_exporter": "python",
   "pygments_lexer": "ipython3",
   "version": "3.10.9"
  }
 },
 "nbformat": 4,
 "nbformat_minor": 2
}
